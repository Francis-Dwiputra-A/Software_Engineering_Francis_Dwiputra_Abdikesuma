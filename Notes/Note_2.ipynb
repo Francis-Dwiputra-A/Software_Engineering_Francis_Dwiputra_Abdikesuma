{
  "nbformat": 4,
  "nbformat_minor": 0,
  "metadata": {
    "colab": {
      "name": "Untitled20.ipynb",
      "provenance": []
    },
    "kernelspec": {
      "name": "python3",
      "display_name": "Python 3"
    },
    "language_info": {
      "name": "python"
    }
  },
  "cells": [
    {
      "cell_type": "code",
      "metadata": {
        "colab": {
          "base_uri": "https://localhost:8080/"
        },
        "id": "Jo3do7N2d9rk",
        "outputId": "27dd81bf-1373-4373-a84e-067e503785c1"
      },
      "source": [
        "#List\n",
        "Ex_list = [\"Francis\",12, 0, [\"Apple\",\"Banana\"], {},(),False]\n",
        "print(Ex_list[0])\n",
        "print(Ex_list[1])\n",
        "print(Ex_list[-1])"
      ],
      "execution_count": 1,
      "outputs": [
        {
          "output_type": "stream",
          "name": "stdout",
          "text": [
            "Francis\n",
            "12\n",
            "False\n"
          ]
        }
      ]
    },
    {
      "cell_type": "code",
      "metadata": {
        "colab": {
          "base_uri": "https://localhost:8080/"
        },
        "id": "WrG27KtmemDn",
        "outputId": "10b3e29f-ed12-4c0d-8d53-599efdf63ecc"
      },
      "source": [
        "#Dictionary Key di kiri Value di kanan\n",
        "Ex_Dict = {\"F\":\"Francis\",\"Uno\":1,\"Arr\":[\"Apple\",\"Banana\"], \"Dict\":{},33:(),\"Bool\":False}\n",
        "print(Ex_Dict[\"F\"])\n",
        "print(Ex_Dict[\"Arr\"])\n",
        "print(Ex_Dict[33])"
      ],
      "execution_count": 6,
      "outputs": [
        {
          "output_type": "stream",
          "name": "stdout",
          "text": [
            "Francis\n",
            "['Apple', 'Banana']\n",
            "()\n"
          ]
        }
      ]
    },
    {
      "cell_type": "code",
      "metadata": {
        "colab": {
          "base_uri": "https://localhost:8080/"
        },
        "id": "x0ZMNBIgfXKj",
        "outputId": "119ec62d-460e-41c9-9c81-764100d7f106"
      },
      "source": [
        "#Ex method Dictionary\n",
        "Ex_Dict.keys()"
      ],
      "execution_count": 7,
      "outputs": [
        {
          "output_type": "execute_result",
          "data": {
            "text/plain": [
              "dict_keys(['F', 'Uno', 'Arr', 'Dict', 33, 'Bool'])"
            ]
          },
          "metadata": {},
          "execution_count": 7
        }
      ]
    },
    {
      "cell_type": "code",
      "metadata": {
        "id": "pdtG1AYefiv1"
      },
      "source": [
        "#Ex method List\n",
        "List1 = [3,2,1,4,5,6]"
      ],
      "execution_count": 8,
      "outputs": []
    },
    {
      "cell_type": "code",
      "metadata": {
        "colab": {
          "base_uri": "https://localhost:8080/"
        },
        "id": "rrjnezmJf6mg",
        "outputId": "daeea8cc-1282-4802-bdad-cb7f57a129a0"
      },
      "source": [
        "List1.append(\"Francis\")\n",
        "print(List1)"
      ],
      "execution_count": 9,
      "outputs": [
        {
          "output_type": "stream",
          "name": "stdout",
          "text": [
            "[3, 2, 1, 4, 5, 6, 'Francis']\n"
          ]
        }
      ]
    },
    {
      "cell_type": "code",
      "metadata": {
        "colab": {
          "base_uri": "https://localhost:8080/"
        },
        "id": "-gtN2nAUgADH",
        "outputId": "eea1c64d-dc61-4fb1-ec4b-336020a960ff"
      },
      "source": [
        "List1.insert(3, \"Hallo\")\n",
        "print(List1)"
      ],
      "execution_count": 10,
      "outputs": [
        {
          "output_type": "stream",
          "name": "stdout",
          "text": [
            "[3, 2, 1, 'Hallo', 4, 5, 6, 'Francis']\n"
          ]
        }
      ]
    },
    {
      "cell_type": "code",
      "metadata": {
        "colab": {
          "base_uri": "https://localhost:8080/"
        },
        "id": "HdrlJkg9gGC3",
        "outputId": "fd5e45cf-c42e-43d7-daa6-16344c4b8461"
      },
      "source": [
        "List_Angka = [3,4,5,2,1]\n",
        "List_Angka.sort()\n",
        "print(List_Angka)"
      ],
      "execution_count": 13,
      "outputs": [
        {
          "output_type": "stream",
          "name": "stdout",
          "text": [
            "[1, 2, 3, 4, 5]\n"
          ]
        }
      ]
    },
    {
      "cell_type": "code",
      "metadata": {
        "colab": {
          "base_uri": "https://localhost:8080/"
        },
        "id": "ZWDnGpuPgVn2",
        "outputId": "40767cd6-ea7f-4462-bff5-4a384a9ca4e3"
      },
      "source": [
        "List_Angka.sort(reverse = True)\n",
        "print(List_Angka)"
      ],
      "execution_count": 14,
      "outputs": [
        {
          "output_type": "stream",
          "name": "stdout",
          "text": [
            "[5, 4, 3, 2, 1]\n"
          ]
        }
      ]
    },
    {
      "cell_type": "code",
      "metadata": {
        "colab": {
          "base_uri": "https://localhost:8080/"
        },
        "id": "HeeEyKl7gWOQ",
        "outputId": "2d8f0113-82e2-4e75-a0b6-5a21823dc5ef"
      },
      "source": [
        "List_Angka.pop()\n",
        "print(List_Angka)"
      ],
      "execution_count": 15,
      "outputs": [
        {
          "output_type": "stream",
          "name": "stdout",
          "text": [
            "[5, 4, 3, 2]\n"
          ]
        }
      ]
    },
    {
      "cell_type": "code",
      "metadata": {
        "colab": {
          "base_uri": "https://localhost:8080/"
        },
        "id": "HSLHnLxMgdo_",
        "outputId": "0b465e29-8167-4914-978b-6d5eca3d0e69"
      },
      "source": [
        "List_Angka.remove(3)\n",
        "print(List_Angka)"
      ],
      "execution_count": 17,
      "outputs": [
        {
          "output_type": "stream",
          "name": "stdout",
          "text": [
            "[5, 4, 2]\n"
          ]
        }
      ]
    },
    {
      "cell_type": "code",
      "metadata": {
        "colab": {
          "base_uri": "https://localhost:8080/"
        },
        "id": "evEdId1DhnBu",
        "outputId": "9f7c44b3-a633-40f6-b7f0-2459ab95bb72"
      },
      "source": [
        "#Set {Set gg bisa di panggil seperti list EX: set_angka[0]}\n",
        "set_angka = set(List_Angka)\n",
        "print(set_angka)"
      ],
      "execution_count": 18,
      "outputs": [
        {
          "output_type": "stream",
          "name": "stdout",
          "text": [
            "{2, 4, 5}\n"
          ]
        }
      ]
    },
    {
      "cell_type": "code",
      "metadata": {
        "colab": {
          "base_uri": "https://localhost:8080/"
        },
        "id": "NiRWaz8oiYkW",
        "outputId": "b21ad2a9-04b9-4f9c-a8ba-e321baa0f2a6"
      },
      "source": [
        "list_angka1 = list(set_angka)\n",
        "print(list_angka1)"
      ],
      "execution_count": 19,
      "outputs": [
        {
          "output_type": "stream",
          "name": "stdout",
          "text": [
            "[2, 4, 5]\n"
          ]
        }
      ]
    },
    {
      "cell_type": "code",
      "metadata": {
        "colab": {
          "base_uri": "https://localhost:8080/"
        },
        "id": "cNpukOHGifmH",
        "outputId": "1142a2a6-f4ca-412e-91b1-26c8eada92db"
      },
      "source": [
        "#tuple {tuple itu constant gg bisa di ubah lagi}\n",
        "tuple_angka = [1,2,3,4,5,6,7,8,9]\n",
        "print(tuple_angka[0])"
      ],
      "execution_count": 20,
      "outputs": [
        {
          "output_type": "stream",
          "name": "stdout",
          "text": [
            "1\n"
          ]
        }
      ]
    },
    {
      "cell_type": "code",
      "metadata": {
        "id": "dOD3btpMjCcI"
      },
      "source": [
        "Ex_Dict = {\"F\":\"Francis\",\"Uno\":1,\"Arr\":[\"Apple\",\"Banana\"], \"Dict\":{},33:(),\"Bool\":False}"
      ],
      "execution_count": 21,
      "outputs": []
    },
    {
      "cell_type": "code",
      "metadata": {
        "id": "oRDPgRc5jH4_"
      },
      "source": [
        "Ex_Dict[\"Hello\"] = [\"Hi\"]"
      ],
      "execution_count": 22,
      "outputs": []
    },
    {
      "cell_type": "code",
      "metadata": {
        "colab": {
          "base_uri": "https://localhost:8080/"
        },
        "id": "IQRp5CHQj5Fv",
        "outputId": "f627844c-5826-4648-e85c-26436afa8d41"
      },
      "source": [
        "print(Ex_Dict)"
      ],
      "execution_count": 23,
      "outputs": [
        {
          "output_type": "stream",
          "name": "stdout",
          "text": [
            "{'F': 'Francis', 'Uno': 1, 'Arr': ['Apple', 'Banana'], 'Dict': {}, 33: (), 'Bool': False, 'Hello': ['Hi']}\n"
          ]
        }
      ]
    },
    {
      "cell_type": "code",
      "metadata": {
        "colab": {
          "base_uri": "https://localhost:8080/"
        },
        "id": "UKCm4T5Gj8M5",
        "outputId": "526c4726-fd0a-4224-e360-5417a9a6bfc0"
      },
      "source": [
        "Ex_Dict[\"Hello\"].append(\"Aloha\")\n",
        "print(Ex_Dict)"
      ],
      "execution_count": 24,
      "outputs": [
        {
          "output_type": "stream",
          "name": "stdout",
          "text": [
            "{'F': 'Francis', 'Uno': 1, 'Arr': ['Apple', 'Banana'], 'Dict': {}, 33: (), 'Bool': False, 'Hello': ['Hi', 'Aloha']}\n"
          ]
        }
      ]
    },
    {
      "cell_type": "code",
      "metadata": {
        "id": "w8WLtu1okbHp"
      },
      "source": [
        "del Ex_Dict[\"Hello\"]\n",
        "# Ex_Dict.pop(\"Hello\")"
      ],
      "execution_count": 25,
      "outputs": []
    },
    {
      "cell_type": "code",
      "metadata": {
        "colab": {
          "base_uri": "https://localhost:8080/"
        },
        "id": "eeq8jxR4khAX",
        "outputId": "683f1838-719a-45c4-8fbd-8dad283df641"
      },
      "source": [
        "print(Ex_Dict)"
      ],
      "execution_count": 26,
      "outputs": [
        {
          "output_type": "stream",
          "name": "stdout",
          "text": [
            "{'F': 'Francis', 'Uno': 1, 'Arr': ['Apple', 'Banana'], 'Dict': {}, 33: (), 'Bool': False}\n"
          ]
        }
      ]
    },
    {
      "cell_type": "code",
      "metadata": {
        "colab": {
          "base_uri": "https://localhost:8080/"
        },
        "id": "MLORXMv6lD_Q",
        "outputId": "de213309-10cf-4754-84b0-081c141f324c"
      },
      "source": [
        "#Looping\n",
        "\n",
        "for i in range(10):\n",
        "  print(\"Hai\")"
      ],
      "execution_count": 27,
      "outputs": [
        {
          "output_type": "stream",
          "name": "stdout",
          "text": [
            "Hai\n",
            "Hai\n",
            "Hai\n",
            "Hai\n",
            "Hai\n",
            "Hai\n",
            "Hai\n",
            "Hai\n",
            "Hai\n",
            "Hai\n"
          ]
        }
      ]
    },
    {
      "cell_type": "code",
      "metadata": {
        "colab": {
          "base_uri": "https://localhost:8080/"
        },
        "id": "rHRWq8G-lLZp",
        "outputId": "aea810c6-6388-4b12-8ec6-2e0f47524e1d"
      },
      "source": [
        "for i in range(10):\n",
        "  print(i)"
      ],
      "execution_count": 29,
      "outputs": [
        {
          "output_type": "stream",
          "name": "stdout",
          "text": [
            "0\n",
            "1\n",
            "2\n",
            "3\n",
            "4\n",
            "5\n",
            "6\n",
            "7\n",
            "8\n",
            "9\n"
          ]
        }
      ]
    },
    {
      "cell_type": "code",
      "metadata": {
        "colab": {
          "base_uri": "https://localhost:8080/"
        },
        "id": "uChu9tlLlSuQ",
        "outputId": "c634e352-4d08-4ec4-c152-3c2832fb8567"
      },
      "source": [
        "for i in range (2,10,2):\n",
        "  print(i)"
      ],
      "execution_count": 31,
      "outputs": [
        {
          "output_type": "stream",
          "name": "stdout",
          "text": [
            "2\n",
            "4\n",
            "6\n",
            "8\n"
          ]
        }
      ]
    },
    {
      "cell_type": "code",
      "metadata": {
        "colab": {
          "base_uri": "https://localhost:8080/"
        },
        "id": "omdFdI2Vl3E0",
        "outputId": "95349e43-5ace-45d1-f831-31a616e14892"
      },
      "source": [
        "#while\n",
        "a = 0\n",
        "while a < 10:\n",
        "  print(\"a = {}\".format(a))\n",
        "  a+= 1"
      ],
      "execution_count": 35,
      "outputs": [
        {
          "output_type": "stream",
          "name": "stdout",
          "text": [
            "a = 0\n",
            "a = 1\n",
            "a = 2\n",
            "a = 3\n",
            "a = 4\n",
            "a = 5\n",
            "a = 6\n",
            "a = 7\n",
            "a = 8\n",
            "a = 9\n"
          ]
        }
      ]
    },
    {
      "cell_type": "code",
      "metadata": {
        "colab": {
          "base_uri": "https://localhost:8080/"
        },
        "id": "Sf1b2TPsmfJ4",
        "outputId": "ee50a153-6b39-4c89-bb8a-e630f2a508b2"
      },
      "source": [
        "while True:\n",
        "  umur = int(input())\n",
        "  if umur < 17:\n",
        "    break"
      ],
      "execution_count": 36,
      "outputs": [
        {
          "name": "stdout",
          "output_type": "stream",
          "text": [
            "30\n",
            "40\n",
            "2\n"
          ]
        }
      ]
    },
    {
      "cell_type": "code",
      "metadata": {
        "colab": {
          "base_uri": "https://localhost:8080/"
        },
        "id": "S6S6nlwGmqPf",
        "outputId": "68444c00-c5c1-4cde-d32f-df8c18c94496"
      },
      "source": [
        "while True:\n",
        "  umur = int(input())\n",
        "  if umur < 17:\n",
        "    continue\n",
        "  elif umur == 18:\n",
        "    break\n",
        "  print(\"Hi\")\n"
      ],
      "execution_count": 37,
      "outputs": [
        {
          "name": "stdout",
          "output_type": "stream",
          "text": [
            "8\n",
            "10\n",
            "200\n",
            "Hi\n",
            "18\n"
          ]
        }
      ]
    },
    {
      "cell_type": "code",
      "metadata": {
        "colab": {
          "base_uri": "https://localhost:8080/"
        },
        "id": "SmRqb00PnV3v",
        "outputId": "5c92bc55-4b58-48ae-fb72-1b484560133a"
      },
      "source": [
        "#for else\n",
        "for i in range (0,20,1):\n",
        "  print(i)\n",
        "else:\n",
        "  print(\"alo\")"
      ],
      "execution_count": 38,
      "outputs": [
        {
          "output_type": "stream",
          "name": "stdout",
          "text": [
            "0\n",
            "1\n",
            "2\n",
            "3\n",
            "4\n",
            "5\n",
            "6\n",
            "7\n",
            "8\n",
            "9\n",
            "10\n",
            "11\n",
            "12\n",
            "13\n",
            "14\n",
            "15\n",
            "16\n",
            "17\n",
            "18\n",
            "19\n",
            "alo\n"
          ]
        }
      ]
    },
    {
      "cell_type": "code",
      "metadata": {
        "colab": {
          "base_uri": "https://localhost:8080/"
        },
        "id": "vrOW-PK4nei4",
        "outputId": "171ab907-2f42-4116-826a-74b81c81ee7c"
      },
      "source": [
        "#for else\n",
        "for i in range (0,20,1):\n",
        "  print(i)\n",
        "  if i == 3:\n",
        "    break\n",
        "else:\n",
        "  print(\"alo\")"
      ],
      "execution_count": 39,
      "outputs": [
        {
          "output_type": "stream",
          "name": "stdout",
          "text": [
            "0\n",
            "1\n",
            "2\n",
            "3\n"
          ]
        }
      ]
    },
    {
      "cell_type": "code",
      "metadata": {
        "id": "QSRzhDfpn0-E"
      },
      "source": [
        "#function\n",
        "def Max(a,b):\n",
        "  if a > b:\n",
        "    return a\n",
        "  else :\n",
        "    return b "
      ],
      "execution_count": 40,
      "outputs": []
    },
    {
      "cell_type": "code",
      "metadata": {
        "colab": {
          "base_uri": "https://localhost:8080/"
        },
        "id": "GKuk8CnhoL6Y",
        "outputId": "bd2b6a5b-6f44-4877-81b6-95612cc21e2f"
      },
      "source": [
        "print(Max(3,11))"
      ],
      "execution_count": 41,
      "outputs": [
        {
          "output_type": "stream",
          "name": "stdout",
          "text": [
            "11\n"
          ]
        }
      ]
    },
    {
      "cell_type": "code",
      "metadata": {
        "colab": {
          "base_uri": "https://localhost:8080/"
        },
        "id": "yhdXvYB3pykn",
        "outputId": "ecd8d6f1-9d49-44c7-851c-a9b262bb5e7c"
      },
      "source": [
        "for i in Ex_Dict:\n",
        "  print(i)"
      ],
      "execution_count": 42,
      "outputs": [
        {
          "output_type": "stream",
          "name": "stdout",
          "text": [
            "F\n",
            "Uno\n",
            "Arr\n",
            "Dict\n",
            "33\n",
            "Bool\n"
          ]
        }
      ]
    },
    {
      "cell_type": "code",
      "metadata": {
        "colab": {
          "base_uri": "https://localhost:8080/"
        },
        "id": "8IZfx0ZNrch4",
        "outputId": "79cf68b4-60bd-4402-a73d-e605672b015a"
      },
      "source": [
        "test_list = [7,8,9,0]\n",
        "for i, value in enumerate(test_list):\n",
        "  if value == 9:\n",
        "    test_list[i] = \"Nine\"\n",
        "print(test_list)"
      ],
      "execution_count": 44,
      "outputs": [
        {
          "output_type": "stream",
          "name": "stdout",
          "text": [
            "[7, 8, 'Nine', 0]\n"
          ]
        }
      ]
    }
  ]
}