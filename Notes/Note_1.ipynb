{
  "nbformat": 4,
  "nbformat_minor": 0,
  "metadata": {
    "colab": {
      "name": "Note_1",
      "provenance": []
    },
    "kernelspec": {
      "name": "python3",
      "display_name": "Python 3"
    },
    "language_info": {
      "name": "python"
    }
  },
  "cells": [
    {
      "cell_type": "code",
      "metadata": {
        "id": "EJ9GPdCvAfU7"
      },
      "source": [
        "#Variable EX\n",
        "\n",
        "a = 10 #Integer\n",
        "b = 3.14 #Float\n",
        "c = \"A\" #String\n",
        "d = \"Software Engineer\" #String\n",
        "e = 'A' #String\n",
        "f = \"Software Engineer\" #String\n",
        "g = True #Boolean\n",
        "h = False #Boolean\n",
        "i = [] #List\n",
        "j = [1,2,3] #List\n",
        "k = {} #Dictionary\n",
        "l = () #Tuple"
      ],
      "execution_count": 2,
      "outputs": []
    },
    {
      "cell_type": "code",
      "metadata": {
        "colab": {
          "base_uri": "https://localhost:8080/"
        },
        "id": "bjVOEQFtApHn",
        "outputId": "ff1905c2-6040-443e-be65-4d43fd3d64d2"
      },
      "source": [
        "#Print untuk debugger\n",
        "\n",
        "print(c)\n",
        "print(2+4+3)\n",
        "print(\"Hello World!\")\n",
        "print(j)"
      ],
      "execution_count": 5,
      "outputs": [
        {
          "output_type": "stream",
          "name": "stdout",
          "text": [
            "A\n",
            "9\n",
            "Hello World!\n",
            "[1, 2, 3]\n"
          ]
        }
      ]
    },
    {
      "cell_type": "code",
      "metadata": {
        "id": "7jmTgGZ3A8WO"
      },
      "source": [
        "nama = \"Francis\"\n",
        "umur = 20\n",
        "tempat = \"Mataram\""
      ],
      "execution_count": 6,
      "outputs": []
    },
    {
      "cell_type": "code",
      "metadata": {
        "colab": {
          "base_uri": "https://localhost:8080/"
        },
        "id": "14NAVqY5A_6O",
        "outputId": "6880f785-f7fd-4178-de7b-32e7cd99705a"
      },
      "source": [
        "#scanf di C || cin di C++\n",
        "nama = input()"
      ],
      "execution_count": 7,
      "outputs": [
        {
          "name": "stdout",
          "output_type": "stream",
          "text": [
            "Francheeze\n"
          ]
        }
      ]
    },
    {
      "cell_type": "code",
      "metadata": {
        "colab": {
          "base_uri": "https://localhost:8080/"
        },
        "id": "JMH3FemeBJzD",
        "outputId": "b830b0de-cec3-409f-e7e2-c7b5f33d0fd0"
      },
      "source": [
        "#concatenation\n",
        "print(\"Hai, namaku adalah \" + nama)\n",
        "print(\"Hai, namaku adalah {}\".format(\"Francis\"))\n",
        "print(\"Hai, namaku adalah {}\".format(nama))"
      ],
      "execution_count": 8,
      "outputs": [
        {
          "output_type": "stream",
          "name": "stdout",
          "text": [
            "Hai, namaku adalah Francheeze\n",
            "Hai, namaku adalah Francis\n",
            "Hai, namaku adalah Francheeze\n"
          ]
        }
      ]
    },
    {
      "cell_type": "code",
      "metadata": {
        "colab": {
          "base_uri": "https://localhost:8080/"
        },
        "id": "r3tJqYP3BRGm",
        "outputId": "8188590e-ec45-4727-f681-ea06f57a9907"
      },
      "source": [
        "print(\"Hai, namaku adalah \" + nama + \", umurku \" + str(umur))\n",
        "print(\"Hai, namaku adalah \", nama ,\", umurku \", umur)\n",
        "print(\"Hai, namaku adalah {}, umurku {}, saya tinggal di {}\".format(nama, umur, tempat)) #Recommended"
      ],
      "execution_count": 9,
      "outputs": [
        {
          "output_type": "stream",
          "name": "stdout",
          "text": [
            "Hai, namaku adalah Francheeze, umurku 20\n",
            "Hai, namaku adalah  Francheeze , umurku  20\n",
            "Hai, namaku adalah Francheeze, umurku 20, saya tinggal di Mataram\n"
          ]
        }
      ]
    },
    {
      "cell_type": "code",
      "metadata": {
        "colab": {
          "base_uri": "https://localhost:8080/"
        },
        "id": "c-PCq1p2BW72",
        "outputId": "33fecc95-7d05-4ad9-9cfd-cf468eae1969"
      },
      "source": [
        "import math\n",
        "a = 10\n",
        "b = 10\n",
        "#If else\n",
        "\n",
        "## Conditional Statement\n",
        "a == b\n",
        "a != b\n",
        "a < b\n",
        "a <= b\n",
        "a > b\n",
        "a >= b\n",
        "True and True\n",
        "False or True \n",
        "\n",
        "##Operator\n",
        "a + b\n",
        "a - b\n",
        "a * b\n",
        "a / b # 10 / 10 = 1.0 --> Float Division\n",
        "a // b # 10 // 10 = 1 --> Integer Division\n",
        "a ** b # 10^10 = 100\n",
        "a % b # Modulus\n",
        "a ** (1/2) # akar variable a, dimana a = 10\n",
        "math.sqrt(a) # akar variabel a\n",
        "math.sin(a)\n",
        "math.tan(a)\n",
        "math.cos(a)\n",
        "math.tanh(a)\n",
        "math.sinh(a)\n",
        "math.cosh(a)\n",
        "math.log(a)"
      ],
      "execution_count": 10,
      "outputs": [
        {
          "output_type": "execute_result",
          "data": {
            "text/plain": [
              "2.302585092994046"
            ]
          },
          "metadata": {},
          "execution_count": 10
        }
      ]
    },
    {
      "cell_type": "code",
      "metadata": {
        "colab": {
          "base_uri": "https://localhost:8080/"
        },
        "id": "iX3cmro1BfM5",
        "outputId": "6e9dc38c-1f95-4df1-b58e-297c5ccab243"
      },
      "source": [
        "if a == 10:\n",
        "  print(\"a sama dengan 10\")\n",
        "elif a > 10:\n",
        "  print(\"a lebih besar dari 10\")\n",
        "else:\n",
        "  print(\"a kurang dari 10\")\n",
        "print(\"ini diluar if\")"
      ],
      "execution_count": 12,
      "outputs": [
        {
          "output_type": "stream",
          "name": "stdout",
          "text": [
            "a sama dengan 10\n",
            "ini diluar if\n"
          ]
        }
      ]
    }
  ]
}