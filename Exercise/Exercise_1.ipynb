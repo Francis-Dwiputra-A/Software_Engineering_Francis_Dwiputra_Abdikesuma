{
  "nbformat": 4,
  "nbformat_minor": 0,
  "metadata": {
    "colab": {
      "name": "Exercise_1",
      "provenance": [],
      "collapsed_sections": []
    },
    "kernelspec": {
      "name": "python3",
      "display_name": "Python 3"
    },
    "language_info": {
      "name": "python"
    }
  },
  "cells": [
    {
      "cell_type": "code",
      "metadata": {
        "colab": {
          "base_uri": "https://localhost:8080/"
        },
        "id": "FRIfuc8Ya_Lx",
        "outputId": "a2b5180e-a4dc-40a6-bb90-a05b0043b8b1"
      },
      "source": [
        "import math\n",
        "print(\"Please input the number to be squared\")\n",
        "num = input()\n",
        "num = int(num)\n",
        "res1 = num ** (1/2)\n",
        "res2 = math.sqrt(num)\n",
        "print(\"The result is\", res1)\n",
        "print(\"the result is {}\".format(res2))"
      ],
      "execution_count": null,
      "outputs": [
        {
          "output_type": "stream",
          "name": "stdout",
          "text": [
            "Please input the number to be squared\n",
            "25\n",
            "The result is 5.0\n",
            "the result is 5.0\n"
          ]
        }
      ]
    }
  ]
}