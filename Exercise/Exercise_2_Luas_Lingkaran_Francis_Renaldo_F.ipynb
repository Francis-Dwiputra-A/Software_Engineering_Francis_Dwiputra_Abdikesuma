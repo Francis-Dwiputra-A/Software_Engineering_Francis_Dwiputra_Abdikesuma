{
  "nbformat": 4,
  "nbformat_minor": 0,
  "metadata": {
    "colab": {
      "name": "Untitled21.ipynb",
      "provenance": []
    },
    "kernelspec": {
      "name": "python3",
      "display_name": "Python 3"
    },
    "language_info": {
      "name": "python"
    }
  },
  "cells": [
    {
      "cell_type": "code",
      "metadata": {
        "id": "MeTUcFRzw6-G"
      },
      "source": [
        "import math\n",
        "def luas_lingkaran(a):\n",
        "  return math.pi * a * a"
      ],
      "execution_count": 6,
      "outputs": []
    },
    {
      "cell_type": "code",
      "metadata": {
        "colab": {
          "base_uri": "https://localhost:8080/"
        },
        "id": "JTk0rNAayn03",
        "outputId": "3dbc6252-ecad-4c9f-8bb7-8cf8034dd08a"
      },
      "source": [
        "print(\"Masukan jari-jari dari lingkaran:\")\n",
        "jari_jari = int(input())\n",
        "Luas = luas_lingkaran(jari_jari)\n",
        "print(f\"Luas lingkaran yang jari-jarinya {jari_jari} adalah {Luas}\")"
      ],
      "execution_count": 8,
      "outputs": [
        {
          "output_type": "stream",
          "name": "stdout",
          "text": [
            "Masukan jari-jari dari lingkaran:\n",
            "7\n",
            "Luas lingkaran yang jari-jarinya 7 adalah 153.93804002589985\n"
          ]
        }
      ]
    }
  ]
}